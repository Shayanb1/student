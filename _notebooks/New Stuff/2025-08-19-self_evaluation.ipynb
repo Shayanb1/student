{
 "cells": [
  {
   "cell_type": "raw",
   "metadata": {},
   "source": [
    "---\n",
    "layout: post\n",
    "title: Self Evaluation\n",
    "description: Evaluate Yourself\n",
    "categories: ['JavaScript']\n",
    "permalink: /selfevaluation\n",
    "type: ccc\n",
    "courses: {'csse': {'week': 2}, 'csp': {'week': 1}, 'csa': {'week': 0}}\n",
    "author: Shaya Bhatti\n",
    "---"
   ]
  },
  {
   "cell_type": "markdown",
   "metadata": {},
   "source": [
    "Skill | Mastered (Y/N) | Self Rank (1-5) | Peer Rank (1-5) | Teacher Rank (1-5) | Average | Notes/Evidence\n",
    "-- | -- | -- | -- | -- | -- | --\n",
    "🎯 Core Behaviors |   |   |   |   |   |  \n",
    "Attendance | [Y] | 5 | 5 | 0 | 0.0 |  \n",
    "Work Habits | [N] | 4 | 3.5 | 0 | 0.0 |  \n",
    "Behavior | [Y] | 5 | 4 | 0 | 0.0 |  \n",
    "Timeliness | [Y] | 5 | 4.5 | 0 | 0.0 |  \n",
    "💻 Technical Skills |  |  |  |  |  |  \n",
    "Tech/Cyber Sense | [N] | 4 | 5 | 0 | 0.0 |  \n",
    "Tech/Cyber Talk | [N] | 3.5 | 4 | 0 | 0.0 |  \n",
    "Tech Growth | [N] | 4 | 4.5 | 0 | 0.0 |  \n",
    "🤝 Collaboration |  |  |  |  |  |  \n",
    "Advocacy | [N] | 4 | 5 | 0 | 0.0 |  \n",
    "Communication & Collab | [N] | 3 | 5 | 0 | 0.0 |  \n",
    "🎨 Professional Skills |  |  |  |  |  |  \n",
    "Integrity | [N] | 4 | 5 | 0 | 0.0 |  \n",
    "Organization | [N] | 4 | 3 | 0 | 0.0 |  \n",
    "📈 TOTALS |   | 45.5 | 48.5 | 0 | 0.0 |  \n",
    "🎯 AVERAGE SCORE |   | 4 | 3.5 | 0.0 | 0.0 |  \n",
    "\n",
    "<br class=\"Apple-interchange-newline\">"
   ]
  }
 ],
 "metadata": {
  "language_info": {
   "name": "python"
  }
 },
 "nbformat": 4,
 "nbformat_minor": 2
}
