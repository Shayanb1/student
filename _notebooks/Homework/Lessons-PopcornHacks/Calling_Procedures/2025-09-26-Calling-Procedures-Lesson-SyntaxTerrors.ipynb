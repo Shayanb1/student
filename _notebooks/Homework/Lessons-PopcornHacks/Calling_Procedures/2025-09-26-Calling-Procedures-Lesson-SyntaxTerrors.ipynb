{
 "cells": [
  {
   "cell_type": "code",
   "execution_count": null,
   "id": "c4b1d04e",
   "metadata": {
    "vscode": {
     "languageId": "yaml"
    }
   },
   "outputs": [],
   "source": [
    "---\n",
    "layout: tailwindPost\n",
    "infoGraph: callingprocedures\n",
    "title: Coding Concept - Calling Procedures\n",
    "description: Understanding Calling Procedures in Python and JavaScript\n",
    "permalink: /csp/big-idea-three/callingprocedures/lesson/p3/syntaxterrors\n",
    "author: Hope F\n",
    "---"
   ]
  },
  {
   "cell_type": "markdown",
   "id": "59fc89be",
   "metadata": {},
   "source": [
    "## 3.12 Calling Procedures - Syntax Terrors "
   ]
  },
  {
   "cell_type": "markdown",
   "id": "175a2bed",
   "metadata": {
    "vscode": {
     "languageId": "yaml"
    }
   },
   "source": [
    "{%- include tailwind/tabs.html -%}"
   ]
  }
 ],
 "metadata": {
  "kernelspec": {
   "display_name": "venv",
   "language": "python",
   "name": "python3"
  },
  "language_info": {
   "codemirror_mode": {
    "name": "ipython",
    "version": 3
   },
   "file_extension": ".py",
   "mimetype": "text/x-python",
   "name": "python",
   "nbconvert_exporter": "python",
   "pygments_lexer": "ipython3",
   "version": "3.12.3"
  }
 },
 "nbformat": 4,
 "nbformat_minor": 5
}
