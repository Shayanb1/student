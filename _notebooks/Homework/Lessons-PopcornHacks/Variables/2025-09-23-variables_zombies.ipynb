{
 "cells": [
  {
   "cell_type": "raw",
   "id": "121b9910",
   "metadata": {
    "vscode": {
     "languageId": "raw"
    }
   },
   "source": [
    "---\n",
    "layout: default\n",
    "title: Variables & Assignments\n",
    "description: This page will teach you about variables and assignments in programming.\n",
    "permalink: /csp/variables/zombies\n",
    "breadcrumb: True\n",
    "Author: Ethan Patel, Tanay Paranjpe, Neil Manjrekar\n",
    "---"
   ]
  },
  {
   "cell_type": "markdown",
   "id": "f5ccf020",
   "metadata": {},
   "source": [
    "## Popcorn Hack 1\n",
    "---"
   ]
  },
  {
   "cell_type": "code",
   "execution_count": 1,
   "id": "1b1346df",
   "metadata": {},
   "outputs": [
    {
     "name": "stdout",
     "output_type": "stream",
     "text": [
      "The snake is 8 inches long and it's yellow.\n"
     ]
    }
   ],
   "source": [
    "# Finish the code \n",
    "# Example: snakeSize = 10\n",
    "snakeSize = 8   # <-- Add the size of the snake\n",
    "snakeColor = \"yellow\"   # <-- Add the color of the snake\n",
    "\n",
    "# Print greeting\n",
    "print(\"The snake is \" + str(snakeSize) + \" inches long and it's \" + snakeColor + \".\")\n"
   ]
  },
  {
   "cell_type": "markdown",
   "id": "f5fa0951",
   "metadata": {},
   "source": [
    "## Popcorn Hack 2\n",
    "---"
   ]
  },
  {
   "cell_type": "code",
   "execution_count": 2,
   "id": "4ebf316b",
   "metadata": {},
   "outputs": [
    {
     "name": "stdout",
     "output_type": "stream",
     "text": [
      "You Lose\n"
     ]
    }
   ],
   "source": [
    "# # Finish the code \n",
    "# Define the win/lose messages first\n",
    "messageWin = \"You Win\" # <-- Change this to \"You win!\"\n",
    "messageLose = \"You Lose\" # <-- Change this to \"You lose!\"\n",
    "\n",
    "# Choose outcome\n",
    "winOrLose = \"Win\"  # <-- Change this to either \"win\" or \"lose\"\n",
    "\n",
    "# Print result\n",
    "if winOrLose == \"win\":\n",
    "    print(messageWin)\n",
    "else:\n",
    "    print(messageLose)\n"
   ]
  },
  {
   "cell_type": "markdown",
   "id": "b83d1d22",
   "metadata": {},
   "source": [
    "### Which one do you think is a better variable name?\n",
    "1. highScore vs highestScoreInTheGame   (First one)\n",
    "2. firstName vs 1stName     (First one)\n",
    "3. ID vs studentID          (Second one)"
   ]
  },
  {
   "cell_type": "markdown",
   "id": "cbd6d835",
   "metadata": {},
   "source": [
    "---"
   ]
  },
  {
   "cell_type": "markdown",
   "id": "dd03e973",
   "metadata": {},
   "source": [
    "## Multiple Choice!\n",
    "Compete as teams and try to win!"
   ]
  },
  {
   "cell_type": "markdown",
   "id": "b9b48635",
   "metadata": {},
   "source": [
    "[Click to run MCQ](https://whitelunarium.github.io/Aneesh_2026/mcq)"
   ]
  },
  {
   "cell_type": "markdown",
   "id": "50a95672",
   "metadata": {},
   "source": "## Homework Summary: Variables & Assignments\n\nThis homework assignment focused on understanding **variables and assignments** in programming, covering fundamental concepts through hands-on coding exercises and conceptual questions.\n\n### Popcorn Hack 1: Variable Declaration and String Concatenation\nIn this exercise, I completed code that demonstrated:\n- **Variable declaration**: Created two variables - `snakeSize` (assigned value 8) and `snakeColor` (assigned value \"yellow\")\n- **Data types**: Worked with both integer and string data types\n- **Type conversion**: Used `str()` function to convert the integer `snakeSize` to a string for concatenation\n- **String concatenation**: Combined multiple strings and variables using the `+` operator to create a descriptive output\n- **Output**: \"The snake is 8 inches long and it's yellow.\"\n\nThis demonstrated how variables store different types of data and how they can be combined in output statements.\n\n### Popcorn Hack 2: Conditional Logic with Variables\nThis exercise explored:\n- **Message variables**: Defined `messageWin` (\"You Win\") and `messageLose` (\"You Lose\") to store outcome messages\n- **Control flow variable**: Created `winOrLose` variable set to \"Win\" to determine program flow\n- **Conditional statements**: Used an `if-else` structure to check the value of `winOrLose`\n- **Program logic**: The code checks if `winOrLose == \"win\"` (case-sensitive), and since it was set to \"Win\" (capital W), the condition was false, resulting in \"You Lose\" being printed\n- **Key learning**: This highlighted the importance of case sensitivity in string comparisons and how variables control program execution paths\n\n### Variable Naming Best Practices\nEvaluated three pairs of variable names to understand naming conventions:\n1. **highScore vs highestScoreInTheGame**: Chose `highScore` - demonstrates that variable names should be concise yet descriptive, avoiding unnecessary verbosity\n2. **firstName vs 1stName**: Chose `firstName` - variable names cannot start with numbers in most programming languages; use camelCase for readability\n3. **ID vs studentID**: Chose `studentID` - more specific names provide better context and make code self-documenting, improving code readability and maintenance\n\nThese choices reflect best practices in variable naming: use camelCase, avoid starting with numbers, balance brevity with clarity, and provide sufficient context.\n\n### Multiple Choice Quiz\nCompleted a team-based multiple choice quiz to reinforce understanding of variables, assignments, data types, and programming conventions covered in the lesson.\n\n### Key Takeaways\n- Variables are containers that store data values\n- Proper variable naming improves code readability and maintainability\n- Understanding data types and type conversion is essential for operations like string concatenation\n- Variables control program flow through conditional logic\n- Case sensitivity matters in programming"
  }
 ],
 "metadata": {
  "kernelspec": {
   "display_name": "Python 3",
   "language": "python",
   "name": "python3"
  },
  "language_info": {
   "codemirror_mode": {
    "name": "ipython",
    "version": 3
   },
   "file_extension": ".py",
   "mimetype": "text/x-python",
   "name": "python",
   "nbconvert_exporter": "python",
   "pygments_lexer": "ipython3",
   "version": "3.13.1"
  }
 },
 "nbformat": 4,
 "nbformat_minor": 5
}