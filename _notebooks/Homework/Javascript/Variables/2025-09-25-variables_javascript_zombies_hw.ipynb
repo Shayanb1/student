{
 "cells": [
  {
   "cell_type": "raw",
   "id": "5d9d659b",
   "metadata": {
    "vscode": {
     "languageId": "raw"
    }
   },
   "source": [
    "---\n",
    "layout: default\n",
    "title: Variables & Assignments\n",
    "description: This page will provide homework for the variables and assigmnets lesson.\n",
    "permalink: /js/variables/zombies/hw\n",
    "breadcrumb: True\n",
    "Author: Ethan Patel, Tanay Paranjpe, Neil Manjrekar\n",
    "---"
   ]
  },
  {
   "cell_type": "markdown",
   "id": "4f2bb0f9",
   "metadata": {},
   "source": [
    "## Javascript Variables HW"
   ]
  },
  {
   "cell_type": "code",
   "execution_count": 3,
   "id": "a349231f",
   "metadata": {
    "vscode": {
     "languageId": "javascript"
    }
   },
   "outputs": [
    {
     "data": {
      "application/javascript": "\n// Part 1\n// Personal info\nlet myName = \"Shayan\";       // Fill in your name\nlet myAge = 15;          // Fill in your age (number, no quotes)\nlet myCity = \"San Diego\";       // Fill in the city where you live\n\n// Part 2\n// Preferences\nlet favoriteColor = \"Blue\";      // Your favorite color\nlet favoriteFood = \"Pizza\";       // Your favorite food\nlet favoriteMovie = \"Lion King\";      // Your favorite movie\nlet favoriteSong = \"Lucid Dreams\";       // Your favorite song\n\n// Part 3\n// Reassign some variables (you can change their values later)\nfavoriteFood = \"Sushi\";      // Change your favorite food\nmyCity = \"Los Angeles\";            // Change your city\nlet hasPet = false;          // true or false (Boolean)\n\n// Part 4\n// Add some more details\nlet isStudent = true;       // true or false\nlet isOnline = true;        // true or false\nlet likesMusic = true;      // true or false\n\n// Part 5: Print Your Life Profile\nconsole.log(\"Name:\", myName);\nconsole.log(\"Age:\", myAge);\nconsole.log(\"City:\", myCity);\nconsole.log(\"Favorite color:\", favoriteColor);\nconsole.log(\"Favorite food:\", favoriteFood);\nconsole.log(\"Favorite movie:\", favoriteMovie);\nconsole.log(\"Favorite song:\", favoriteSong);\nconsole.log(\"Student?\", isStudent);\nconsole.log(\"Has pet?\", hasPet);\nconsole.log(\"Online?\", isOnline);\nconsole.log(\"Likes music?\", likesMusic);\n",
      "text/plain": [
       "<IPython.core.display.Javascript object>"
      ]
     },
     "metadata": {},
     "output_type": "display_data"
    }
   ],
   "source": [
    "%%js\n",
    "\n",
    "// Part 1\n",
    "// Personal info\n",
    "let myName = \"Shayan\";       // Fill in your name\n",
    "let myAge = 15;          // Fill in your age (number, no quotes)\n",
    "let myCity = \"San Diego\";       // Fill in the city where you live\n",
    "\n",
    "// Part 2\n",
    "// Preferences\n",
    "let favoriteColor = \"Blue\";      // Your favorite color\n",
    "let favoriteFood = \"Pizza\";       // Your favorite food\n",
    "let favoriteMovie = \"Lion King\";      // Your favorite movie\n",
    "let favoriteSong = \"Lucid Dreams\";       // Your favorite song\n",
    "\n",
    "// Part 3\n",
    "// Reassign some variables (you can change their values later)\n",
    "favoriteFood = \"Sushi\";      // Change your favorite food\n",
    "myCity = \"Los Angeles\";            // Change your city\n",
    "let hasPet = false;          // true or false (Boolean)\n",
    "\n",
    "// Part 4\n",
    "// Add some more details\n",
    "let isStudent = true;       // true or false\n",
    "let isOnline = true;        // true or false\n",
    "let likesMusic = true;      // true or false\n",
    "\n",
    "// Part 5: Print Your Life Profile\n",
    "console.log(\"Name:\", myName);\n",
    "console.log(\"Age:\", myAge);\n",
    "console.log(\"City:\", myCity);\n",
    "console.log(\"Favorite color:\", favoriteColor);\n",
    "console.log(\"Favorite food:\", favoriteFood);\n",
    "console.log(\"Favorite movie:\", favoriteMovie);\n",
    "console.log(\"Favorite song:\", favoriteSong);\n",
    "console.log(\"Student?\", isStudent);\n",
    "console.log(\"Has pet?\", hasPet);\n",
    "console.log(\"Online?\", isOnline);\n",
    "console.log(\"Likes music?\", likesMusic);"
   ]
  },
  {
   "cell_type": "markdown",
   "id": "bd8144a6",
   "metadata": {},
   "source": "## Homework Summary: JavaScript Variables & Assignments\n\nThis homework assignment focused on practicing **JavaScript variable declaration, assignment, and reassignment** through creating a personal profile.\n\n### Part 1: Personal Information Variables\nCreated basic personal information variables:\n- `myName = \"Shayan\"` - String variable storing name\n- `myAge = 15` - Number variable (no quotes for numeric values)\n- `myCity = \"San Diego\"` - String variable for location\n\n**Key concept**: Used `let` keyword for variable declaration, which allows reassignment and has block scope in JavaScript.\n\n### Part 2: Preferences\nDeclared variables for personal preferences:\n- `favoriteColor = \"Blue\"`\n- `favoriteFood = \"Pizza\"`\n- `favoriteMovie = \"Lion King\"`\n- `favoriteSong = \"Lucid Dreams\"`\n\nAll stored as string data types using quotation marks.\n\n### Part 3: Variable Reassignment\nDemonstrated that variables declared with `let` can be reassigned:\n- `favoriteFood` changed from \"Pizza\" to \"Sushi\"\n- `myCity` changed from \"San Diego\" to \"Los Angeles\"\n- Introduced `hasPet = false` - using **Boolean data type** (true/false without quotes)\n\n**Key concept**: Variables can change their values during program execution, which is essential for dynamic programming.\n\n### Part 4: Boolean Variables\nCreated additional Boolean variables to represent true/false states:\n- `isStudent = true`\n- `isOnline = true`\n- `likesMusic = true`\n\n**Key concept**: Booleans represent binary states and are fundamental for conditional logic in programming.\n\n### Part 5: Output with console.log()\nUsed `console.log()` to display all variables with descriptive labels:\n- Printed each variable with a label for clarity\n- Demonstrated how to output different data types (strings, numbers, booleans)\n- Created a complete \"life profile\" by combining all the information\n\n### Key Takeaways\n- **Variable declaration**: Use `let` keyword to create variables that can be reassigned\n- **Data types**: Worked with three main data types:\n  - **Strings**: Text in quotes (e.g., \"Shayan\", \"Blue\")\n  - **Numbers**: Numeric values without quotes (e.g., 15)\n  - **Booleans**: true/false values without quotes\n- **Variable reassignment**: Variables can change values during program execution\n- **Console output**: `console.log()` displays variable values for debugging and user feedback\n- **Naming conventions**: Used camelCase for multi-word variable names (e.g., `favoriteColor`, `isStudent`)\n- **Self-documenting code**: Descriptive variable names make code readable without additional comments"
  }
 ],
 "metadata": {
  "kernelspec": {
   "display_name": "Python 3",
   "language": "python",
   "name": "python3"
  },
  "language_info": {
   "codemirror_mode": {
    "name": "ipython",
    "version": 3
   },
   "file_extension": ".py",
   "mimetype": "text/x-python",
   "name": "python",
   "nbconvert_exporter": "python",
   "pygments_lexer": "ipython3",
   "version": "3.13.1"
  }
 },
 "nbformat": 4,
 "nbformat_minor": 5
}