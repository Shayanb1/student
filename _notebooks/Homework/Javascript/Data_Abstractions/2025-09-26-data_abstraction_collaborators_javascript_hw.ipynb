{
 "cells": [
  {
   "cell_type": "raw",
   "metadata": {
    "vscode": {
     "languageId": "raw"
    }
   },
   "source": [
    "---\n",
    "layout: default\n",
    "title: Data Abstraction Homework\n",
    "description: Quick practice with Javascript Lists\n",
    "permalink: /javascript/data-abstraction/collaborators-hw \n",
    "Author: Nitya R, Alice L, Brandon C\n",
    "---"
   ]
  },
  {
   "cell_type": "markdown",
   "metadata": {},
   "source": "<html lang=\"en\">\n<head>\n  <meta charset=\"UTF-8\">\n  <title>Data Abstraction Hack Homework</title>\n  <style>\n    body { \n      font-family: Arial, sans-serif; \n      padding: 20px; \n      background-color: #000;   /* black background */\n      color: #f4f4f4;           /* light text */\n    }\n    h1 { color: #f39c12; }       /* golden orange for title */\n    h2 { margin-top: 30px; color: #1abc9c; } /* teal for subtitles */\n    .output { \n      background: #222;          /* dark gray output box */\n      padding: 15px; \n      border-radius: 8px; \n      color: #fff;\n    }\n    code, pre { \n      background: #333; \n      color: #0f0;               /* green code text */\n      padding: 5px; \n      border-radius: 5px;\n    }\n    .instructions p, .instructions li {\n      color: #ffffff;\n    }\n    .hack-instructions p,\n    .hack-instructions ul,\n    .hack-instructions li {\n      color: #ffffff;\n    }\n  </style>\n</head>\n<body>\n  <h1>📝 Data Abstraction Hack (10 minutes)</h1>\n  \n  <h2 class=\"instructions\">Instructions</h2>\n  <div class=\"instructions\">\n    <p>\n      In this activity, you'll learn how <strong>lists</strong> manage data and \n      reduce complexity in programs. Follow these steps:\n    </p>\n    <ol>\n      <li>Edit the <code>students</code> list to use your own names (friends, classmates, etc.).</li>\n      <li>Edit the <code>scores</code> list to assign each student a score of your choice.</li>\n      <li>Save and refresh the page in your browser to see how the output changes automatically.</li>\n      <li>After experimenting with <code>students</code> and <code>scores</code>, complete the 🚀 Hack Challenge at the bottom.</li>\n      <li>To make edits, open <strong>VS Code</strong> and find the file at <code>notebooks/csp/big-ideas/2025-09-26-bigidea32homework.ipymd</code>.</li>\n    </ol>\n  </div>\n\n  <h2>Task 1: Students and Scores</h2>\n  <div id=\"students-output\" class=\"output\"></div>\n\n  <script>\n    // Task 1: Create students and scores lists\n    let students = [\"Alex\", \"Jordan\", \"Taylor\", \"Morgan\", \"Casey\"];\n    let scores = [95, 87, 92, 78, 88];\n\n    // Build output for students and scores\n    let studentsOut = \"\";\n    studentsOut += \"<h3>Student Scores</h3>\";\n\n    // Display each student with their score\n    for (let i = 0; i < students.length; i++) {\n      studentsOut += \"<p>\" + students[i] + \": \" + scores[i] + \" points</p>\";\n    }\n\n    // Calculate and display average score\n    let total = 0;\n    for (let i = 0; i < scores.length; i++) {\n      total += scores[i];\n    }\n    let average = total / scores.length;\n    studentsOut += \"<p><strong>Average Score:</strong> \" + average.toFixed(2) + \"</p>\";\n\n    // Display results\n    document.getElementById(\"students-output\").innerHTML = studentsOut;\n  </script>\n\n  <h2>🚀 Hack Challenge Solution: Favorite Video Games</h2>\n  <div id=\"output\" class=\"output\"></div>\n\n  <script>\n    // My custom list for the hack challenge\n    let videoGames = [\"Minecraft\", \"Fortnite\", \"Valorant\", \"Roblox\"];\n\n    // String to build output\n    let out = \"\";\n\n    // Print the original list\n    out += \"<h3>My Favorite Video Games</h3>\";\n    out += \"<p><strong>Original List:</strong> \" + videoGames.join(\", \") + \"</p>\";\n\n    // Add a new game to the list\n    videoGames.push(\"Rocket League\");\n    out += \"<p><strong>After adding Rocket League:</strong> \" + videoGames.join(\", \") + \"</p>\";\n\n    // Remove a game from the list\n    let gameToRemove = \"Fortnite\";\n    let index = videoGames.indexOf(gameToRemove);\n    if (index !== -1) {\n      videoGames.splice(index, 1);\n    }\n    out += \"<p><strong>After removing \" + gameToRemove + \":</strong> \" + videoGames.join(\", \") + \"</p>\";\n\n    // Loop through and print each game\n    out += \"<h3>Final List of Games:</h3>\";\n    for (let i = 0; i < videoGames.length; i++) {\n      out += \"<p>\" + (i + 1) + \". \" + videoGames[i] + \"</p>\";\n    }\n\n    // Show results\n    document.getElementById(\"output\").innerHTML = out;\n  </script>\n\n  <h2>🚀 Hack Challenge</h2>\n  <div class=\"hack-instructions\">\n    <p>\n      Now that you've practiced with <code>students</code> and <code>scores</code>, \n      it's your turn! Create <strong>one new list of your choice</strong>.\n    </p>\n    <p>\n      ✅ Ideas:\n    </p>\n    <ul>\n      <li>A list of <code>favoriteFoods</code></li>\n      <li>A list of <code>cities</code> you want to visit</li>\n      <li>A list of <code>videoGames</code> you enjoy</li>\n    </ul>\n    <p>\n      After creating your new list, write a loop to print each element to the page.\n    </p>\n  </div>\n\n  <pre>\n// Example structure:\nlet favoriteFoods = [\"Pizza\", \"Burgers\", \"Sushi\"];\n\nfor (let i = 0; i < favoriteFoods.length; i++) {\n  console.log(favoriteFoods[i]); // Replace console.log with output to the page if you like\n}\n  </pre>\n\n  <p>\n    💡 Hint: Use the same pattern you saw with <code>students</code> and <code>scores</code>.\n  </p>\n</body>\n</html>"
  }
 ],
 "metadata": {
  "kernelspec": {
   "display_name": "venv",
   "language": "python",
   "name": "python3"
  },
  "language_info": {
   "name": "python",
   "version": "3.13.7"
  }
 },
 "nbformat": 4,
 "nbformat_minor": 2
}