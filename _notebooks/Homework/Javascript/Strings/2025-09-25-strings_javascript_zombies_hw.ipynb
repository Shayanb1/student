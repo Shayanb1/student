{
 "cells": [
  {
   "cell_type": "raw",
   "id": "9dc55ce4",
   "metadata": {
    "vscode": {
     "languageId": "raw"
    }
   },
   "source": [
    "---\n",
    "layout: post\n",
    "title: Strings\n",
    "description: This page will teach you about strings in programming.\n",
    "permalink: /javascript/strings/zombies/hw\n",
    "breadcrumb: True\n",
    "Author: Ethan Patel, Tanay Paranjpe, Neil Manjrekar\n",
    "---"
   ]
  },
  {
   "cell_type": "markdown",
   "id": "536a8026",
   "metadata": {},
   "source": [
    "# Javascript Strings Homework\n",
    "---"
   ]
  },
  {
   "cell_type": "markdown",
   "id": "a234c11e",
   "metadata": {},
   "source": [
    "## Javascript Popcorn Hack"
   ]
  },
  {
   "cell_type": "code",
   "execution_count": 6,
   "id": "8180aaf8",
   "metadata": {
    "vscode": {
     "languageId": "javascript"
    }
   },
   "outputs": [
    {
     "data": {
      "application/javascript": "\nlet fullName = \"Shayan Bhatti\";   // <-- Add your full name\n\n// Extract first name (characters before the space)\nlet firstName = fullName.substring(0, fullName.indexOf(\"Bhatti\"));   // <-- Change the numbers to get the first name correctly\n\n// Extract last name (characters after the space)\nlet lastName = fullName.substring(fullName.indexOf(\" Bhatti\") + 1);   // <-- Change this to get the last name correctly\n\n// Print results\nconsole.log(\"First: \" + firstName);\nconsole.log(\"Last: \" + lastName);\n",
      "text/plain": [
       "<IPython.core.display.Javascript object>"
      ]
     },
     "metadata": {},
     "output_type": "display_data"
    }
   ],
   "source": [
    "%%js\n",
    "\n",
    "let fullName = \"Shayan Bhatti\";   // <-- Add your full name\n",
    "\n",
    "// Extract first name (characters before the space)\n",
    "let firstName = fullName.substring(0, fullName.indexOf(\"Bhatti\"));   // <-- Change the numbers to get the first name correctly\n",
    "\n",
    "// Extract last name (characters after the space)\n",
    "let lastName = fullName.substring(fullName.indexOf(\" Bhatti\") + 1);   // <-- Change this to get the last name correctly\n",
    "\n",
    "// Print results\n",
    "console.log(\"First: \" + firstName);\n",
    "console.log(\"Last: \" + lastName);"
   ]
  },
  {
   "cell_type": "markdown",
   "id": "5209b8ea",
   "metadata": {},
   "source": [
    "## Javascript Strings Homework"
   ]
  },
  {
   "cell_type": "markdown",
   "id": "09d7475e",
   "metadata": {},
   "source": [
    "##### Task – Password Strength Checker\n",
    "Write a JavaScript program that asks the user to enter a password (use prompt() in the browser).\n",
    "\n",
    "Your program should check for these rules using string methods:\n",
    "\n",
    "1. The password must be at least 8 characters long.\n",
    "\n",
    "2. It must include the word \"!\" somewhere.\n",
    "\n",
    "3. It must not start with a space \" \".\n",
    "\n",
    "4. Print out one of these messages depending on the input:\n",
    "\n",
    "- \"Strong password\" if all rules are met.\n",
    "\n",
    "- \"Weak password: too short\" if less than 8 characters.\n",
    "\n",
    "- \"Weak password: missing !\" if it doesn’t include \"!\".\n",
    "\n",
    "- \"Weak password: cannot start with space\" if it starts with a space."
   ]
  },
  {
   "cell_type": "code",
   "execution_count": null,
   "id": "653b0d2a",
   "metadata": {
    "vscode": {
     "languageId": "javascript"
    }
   },
   "outputs": [],
   "source": [
    "%%js\n",
    "\n",
    "// Example Username Checker\n",
    "let username = prompt(\"Enter your username:\");\n",
    "\n",
    "// Rule 1: Must be at least 5 characters\n",
    "if (username.length < 5) {\n",
    "    console.log(\"Invalid username: too short\");\n",
    "}\n",
    "// Rule 2: Cannot contain spaces\n",
    "else if (username.includes(\" \")) {\n",
    "    console.log(\"Invalid username: no spaces allowed\");\n",
    "}\n",
    "// Rule 3: Must start with a capital letter\n",
    "else if (username[0] !== username[0].toUpperCase()) {\n",
    "    console.log(\"Invalid username: must start with a capital letter\");\n",
    "}\n",
    "// All rules passed\n",
    "else {\n",
    "    console.log(\"Valid username\");\n",
    "}"
   ]
  },
  {
   "cell_type": "code",
   "execution_count": 8,
   "id": "159df234",
   "metadata": {
    "vscode": {
     "languageId": "javascript"
    }
   },
   "outputs": [
    {
     "data": {
      "application/javascript": "\n// Homework starts here!\n// Using a test password since prompt() doesn't work in notebooks\nlet password = \"MyPass123!\";  // <-- Change this to test different passwords\n\nconsole.log(\"Testing password: \" + password);\n\n// Rule 1: Must be at least 8 characters long\nif (password.length < 8) {\n    console.log(\"Weak password: too short\");\n}\n// Rule 2: Cannot start with a space\nelse if (password[0] === \" \") {\n    console.log(\"Weak password: cannot start with space\");\n}\n// Rule 3: Must include \"!\"\nelse if (!password.includes(\"!\")) {\n    console.log(\"Weak password: missing !\");\n}\n// All rules passed\nelse {\n    console.log(\"Strong password\");\n}\n",
      "text/plain": [
       "<IPython.core.display.Javascript object>"
      ]
     },
     "metadata": {},
     "output_type": "display_data"
    }
   ],
   "source": [
    "%%js\n",
    "\n",
    "// Homework starts here!\n",
    "// Using a test password since prompt() doesn't work in notebooks\n",
    "let password = \"MyPass123!\";  // <-- Change this to test different passwords\n",
    "\n",
    "console.log(\"Testing password: \" + password);\n",
    "\n",
    "// Rule 1: Must be at least 8 characters long\n",
    "if (password.length < 8) {\n",
    "    console.log(\"Weak password: too short\");\n",
    "}\n",
    "// Rule 2: Cannot start with a space\n",
    "else if (password[0] === \" \") {\n",
    "    console.log(\"Weak password: cannot start with space\");\n",
    "}\n",
    "// Rule 3: Must include \"!\"\n",
    "else if (!password.includes(\"!\")) {\n",
    "    console.log(\"Weak password: missing !\");\n",
    "}\n",
    "// All rules passed\n",
    "else {\n",
    "    console.log(\"Strong password\");\n",
    "}"
   ]
  }
 ],
 "metadata": {
  "kernelspec": {
   "display_name": "Python 3",
   "language": "python",
   "name": "python3"
  },
  "language_info": {
   "codemirror_mode": {
    "name": "ipython",
    "version": 3
   },
   "file_extension": ".py",
   "mimetype": "text/x-python",
   "name": "python",
   "nbconvert_exporter": "python",
   "pygments_lexer": "ipython3",
   "version": "3.13.1"
  }
 },
 "nbformat": 4,
 "nbformat_minor": 5
}
