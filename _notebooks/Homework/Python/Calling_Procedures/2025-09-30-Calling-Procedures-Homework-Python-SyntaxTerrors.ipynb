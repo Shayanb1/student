{
 "cells": [
  {
   "cell_type": "code",
   "execution_count": null,
   "id": "96c0ed4f",
   "metadata": {},
   "outputs": [],
   "source": [
    "---\n",
    "layout: default\n",
    "title: Calling Procedures Hacks\n",
    "description: This page will teach you about calling procedures through hacks.\n",
    "permalink: /csp/big-idea-three/calling-procedures/python/hw/p3/syntaxterrors\n",
    "Author: Kailyn Sanford\n",
    "---"
   ]
  },
  {
   "cell_type": "markdown",
   "id": "c09d0487",
   "metadata": {},
   "source": [
    "## Running to the DOM\n",
    "After editing the code, try running the code and see if it displays under the cell! If it shows under the cell correctly, you edited it correctly!"
   ]
  },
  {
   "cell_type": "markdown",
   "id": "1818d973",
   "metadata": {},
   "source": [
    "## 1. Basic Call\n",
    "How would you go about calling the greet function? Edit the code to add a call."
   ]
  },
  {
   "cell_type": "code",
   "execution_count": null,
   "id": "60a45115",
   "metadata": {},
   "outputs": [],
   "source": [
    "def greet():\n",
    "    print(\"Hello, world!\")\n",
    "\n",
    "# call the \"greet\" procedure here\n",
    "greet()"
   ]
  },
  {
   "cell_type": "markdown",
   "id": "210042ba",
   "metadata": {},
   "source": [
    "## 2. Calling with Parameters\n",
    "Try changing the name within the parameter to your own name."
   ]
  },
  {
   "cell_type": "code",
   "execution_count": null,
   "id": "fde5bc97",
   "metadata": {},
   "outputs": [],
   "source": [
    "def greet(name):\n",
    "    print(\"Hello,\", name)\n",
    "\n",
    "# Put your name and a friends name into the call!\n",
    "greet(\"Shayan\")\n",
    "greet(\"Mason67\")"
   ]
  },
  {
   "cell_type": "markdown",
   "id": "5d36b73c",
   "metadata": {},
   "source": [
    "## 3. Call within a Call\n",
    "try calling the \"jump\" procedure within the \"dance\" procedure!"
   ]
  },
  {
   "cell_type": "code",
   "execution_count": 4,
   "id": "be906fe2",
   "metadata": {},
   "outputs": [
    {
     "name": "stdout",
     "output_type": "stream",
     "text": [
      "I command you to jump!\n",
      "Now spin around!\n",
      "I command you to jump!\n"
     ]
    }
   ],
   "source": [
    "def jump():\n",
    "    print(\"I command you to jump!\")\n",
    "\n",
    "def dance(): # call the jump procedure in here as many times as you want!\n",
    "    jump()\n",
    "    print(\"Now spin around!\")\n",
    "    jump()\n",
    "\n",
    "dance()"
   ]
  },
  {
   "cell_type": "markdown",
   "id": "ed615177",
   "metadata": {},
   "source": [
    "## Let's try it with numbers!\n",
    "Change the #s below to any two numbers to check the sum! Once completed, try and change the function to a different math procedure (such as subtraction, multiplication, or division). If you want an extra challenge, how can we add more variables, or make the math function more complex within the procedure?"
   ]
  },
  {
   "cell_type": "code",
   "execution_count": 2,
   "id": "3de9c996",
   "metadata": {},
   "outputs": [
    {
     "name": "stdout",
     "output_type": "stream",
     "text": [
      "13\n"
     ]
    }
   ],
   "source": [
    "def add_numbers(a, b):\n",
    "    sum_value = a + b\n",
    "    return sum_value\n",
    "\n",
    "answer = add_numbers(6, 7)\n",
    "print(answer)"
   ]
  }
 ],
 "metadata": {
  "kernelspec": {
   "display_name": "Python 3",
   "language": "python",
   "name": "python3"
  },
  "language_info": {
   "codemirror_mode": {
    "name": "ipython",
    "version": 3
   },
   "file_extension": ".py",
   "mimetype": "text/x-python",
   "name": "python",
   "nbconvert_exporter": "python",
   "pygments_lexer": "ipython3",
   "version": "3.13.1"
  }
 },
 "nbformat": 4,
 "nbformat_minor": 5
}
