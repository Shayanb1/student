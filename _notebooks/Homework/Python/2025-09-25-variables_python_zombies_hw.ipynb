{
 "cells": [
  {
   "cell_type": "raw",
   "id": "6d62ad69",
   "metadata": {
    "vscode": {
     "languageId": "raw"
    }
   },
   "source": [
    "---\n",
    "layout: post\n",
    "title: Variables & Assignments\n",
    "description: This page will provide homework for the variables and assigmnets lesson.\n",
    "permalink: /python/variables/zombies/hw\n",
    "breadcrumb: True\n",
    "Author: Ethan Patel, Tanay Paranjpe, Neil Manjrekar\n",
    "---"
   ]
  },
  {
   "cell_type": "markdown",
   "id": "2b9da6aa",
   "metadata": {},
   "source": [
    "## Variables & Assignment Homework\n",
    "---\n",
    "Description:\n",
    "- In this homework hack, you will practice creating and using variables. You’ll define variables to store your name and age, reassign values, and answer interactive questions to test your understanding. This activity will help you master the basics of variables and how they work in programming."
   ]
  },
  {
   "cell_type": "markdown",
   "id": "352d458b",
   "metadata": {
    "vscode": {
     "languageId": "plaintext"
    }
   },
   "source": [
    "# 🏠 Variables Quest Homework\n",
    "\n",
    "**Objective:** Practice creating, manipulating, and combining strings in Python.\n",
    "\n",
    "---\n",
    "\n",
    "## Instructions\n",
    "\n",
    "Complete each challenge by **filling in the missing code**. Use the examples as a guide, but make sure to write your own values or logic.\n"
   ]
  },
  {
   "cell_type": "markdown",
   "id": "39715e07",
   "metadata": {
    "vscode": {
     "languageId": "raw"
    }
   },
   "source": [
    "## Challenge 1: Creating a Life Profile with Variables"
   ]
  },
  {
   "cell_type": "code",
   "execution_count": 6,
   "id": "35609373",
   "metadata": {},
   "outputs": [
    {
     "name": "stdout",
     "output_type": "stream",
     "text": [
      "Name: Shayan\n",
      "Age: 67\n",
      "City: San Diego\n",
      "Favorite color: Brown\n",
      "Favorite food: Pizza\n",
      "Favorite movie: Lion King\n",
      "Favorite song: Lucid Dreams\n",
      "Student? True\n",
      "Has pet? Cat\n",
      "Online? True\n",
      "Likes music? True\n"
     ]
    }
   ],
   "source": [
    "# Part 1\n",
    "## Personal info\n",
    "my_name = \"Shayan\"           # Fill in your name\n",
    "my_age = 67            # Fill in your age\n",
    "my_city = \"San Diego\"           # Fill in the city where you live\n",
    "\n",
    "# Part 2\n",
    "## Preferences\n",
    "favorite_color = \"Brown\"    # Your favorite color\n",
    "favorite_food = \"Pizza\"     # Your favorite food\n",
    "favorite_movie = \"Lion King\"    # Your favorite movie\n",
    "favorite_song = \"Lucid Dreams\"     # Your favorite song\n",
    "\n",
    "# Part 3\n",
    "# Reassign some variables\n",
    "favorite_food = \"Pizza\"\n",
    "my_city = \"San Diego\"\n",
    "has_pet = \"Cat\"\n",
    "\n",
    "# Part 4\n",
    "# Add missing boolean variables\n",
    "is_student = True\n",
    "is_online = True\n",
    "likes_music = True\n",
    "\n",
    "# Part 5: Print Your Life Profile\n",
    "# Print all your variables so your \"Life Profile\" is displayed:\n",
    "\n",
    "print(\"Name:\", my_name)\n",
    "print(\"Age:\", my_age)\n",
    "print(\"City:\", my_city)\n",
    "print(\"Favorite color:\", favorite_color)\n",
    "print(\"Favorite food:\", favorite_food)\n",
    "print(\"Favorite movie:\", favorite_movie)\n",
    "print(\"Favorite song:\", favorite_song)\n",
    "print(\"Student?\", is_student)\n",
    "print(\"Has pet?\", has_pet)\n",
    "print(\"Online?\", is_online)\n",
    "print(\"Likes music?\", likes_music)"
   ]
  },
  {
   "cell_type": "markdown",
   "id": "748cd3e2",
   "metadata": {},
   "source": [
    "# Task 2 "
   ]
  },
  {
   "cell_type": "markdown",
   "id": "a775e8cf",
   "metadata": {
    "vscode": {
     "languageId": "html"
    }
   },
   "source": [
    "## Creative Challenge \n",
    "\n",
    "Your task: Create a “story” or “profile” using **ONLY variables and assignments**.  \n",
    "\n",
    "\n",
    "### Instructions:\n",
    "\n",
    "1. **Create at least 8 variables** to describe a character or yourself.  \n",
    "   Examples:  \n",
    "   `name`, `age`, `favorite_food`, `hobby`, `number_of_pets`, `mood`, `favorite_color`, `dream_job`\n",
    "\n",
    "2. **Assign initial values** to all variables.\n",
    "\n",
    "3. **Reassign at least 4 of the variables** to new values to simulate changes over time or “events” in the story.\n",
    "\n",
    "4. Use **print statements** to write a story or profile that is **at least 5 sentences long**.  \n",
    "   Each sentence should include at least one variable.  \n",
    "   Example:  \n",
    "   > \"Tanay ('age' 17) loves pizza and plays tennis ('hobby') every weekend. Today, Tanay is happy because he ate his ('favoirite_food').\"\n",
    "\n",
    "5. Optional: Add **extra variables** to make your story longer and more creative.  \n",
    "   You can also create “day 2”, “day 3”, etc., by reassigning variables and printing new sentences.\n",
    "\n",
    "### Goal:\n",
    "\n",
    "- Show creativity while practicing:  \n",
    "  - Variable creation  \n",
    "  - Variable reassignment  \n",
    "  - Using variables in print statements\n",
    "  - Experiment with assigment and reassigment to update variables \n"
   ]
  },
  {
   "cell_type": "code",
   "execution_count": 11,
   "id": "3cf0cada",
   "metadata": {},
   "outputs": [
    {
     "name": "stdout",
     "output_type": "stream",
     "text": [
      "Meet Shayan, a 15 year old student who loves the color brown and dreams of becoming a software engineer.\n",
      "Shayan has 2 pets and spends every afternoon playing football with friends.\n",
      "Today, Shayan is feeling excited because it's the weekend!\n",
      "For lunch, Shayan ate his favorite food: pizza.\n",
      "After eating, Shayan went to practice football for two hours.\n",
      "\n",
      "--- The Next Day ---\n",
      "Shayan just turned 16 years old!\n",
      "Now Shayan is feeling tired after staying up late learning coding.\n",
      "For dinner, Shayan tried something new and discovered that burgers are even better than pizza!\n",
      "Shayan is excited to keep improving his coding skills to get closer to their dream of being a software engineer.\n"
     ]
    }
   ],
   "source": [
    "# Create at least 8 variables\n",
    "name = \"Shayan\"\n",
    "age = 15\n",
    "favorite_food = \"pizza\"\n",
    "hobby = \"football\"\n",
    "number_of_pets = 2\n",
    "mood = \"excited\"\n",
    "favorite_color = \"brown\"\n",
    "dream_job = \"software engineer\"\n",
    "\n",
    "# Day 1 - Initial story\n",
    "print(\"Meet\", name + \", a\", age, \"year old student who loves the color\", favorite_color, \"and dreams of becoming a\", dream_job + \".\")\n",
    "print(name, \"has\", number_of_pets, \"pets and spends every afternoon playing\", hobby, \"with friends.\")\n",
    "print(\"Today,\", name, \"is feeling\", mood, \"because it's the weekend!\")\n",
    "print(\"For lunch,\", name, \"ate his favorite food:\", favorite_food + \".\")\n",
    "print(\"After eating,\", name, \"went to practice\", hobby, \"for two hours.\")\n",
    "\n",
    "# Reassign at least 4 variables to simulate changes\n",
    "mood = \"tired\"\n",
    "favorite_food = \"burgers\"\n",
    "hobby = \"coding\"\n",
    "age = 16\n",
    "\n",
    "# Day 2 - Updated story\n",
    "print(\"\\n--- The Next Day ---\")\n",
    "print(name, \"just turned\", age, \"years old!\")\n",
    "print(\"Now\", name, \"is feeling\", mood, \"after staying up late learning\", hobby + \".\")\n",
    "print(\"For dinner,\", name, \"tried something new and discovered that\", favorite_food, \"are even better than pizza!\")\n",
    "print(name, \"is excited to keep improving his\", hobby, \"skills to get closer to their dream of being a\", dream_job + \".\")"
   ]
  }
 ],
 "metadata": {
  "kernelspec": {
   "display_name": "Python 3",
   "language": "python",
   "name": "python3"
  },
  "language_info": {
   "codemirror_mode": {
    "name": "ipython",
    "version": 3
   },
   "file_extension": ".py",
   "mimetype": "text/x-python",
   "name": "python",
   "nbconvert_exporter": "python",
   "pygments_lexer": "ipython3",
   "version": "3.13.1"
  }
 },
 "nbformat": 4,
 "nbformat_minor": 5
}
