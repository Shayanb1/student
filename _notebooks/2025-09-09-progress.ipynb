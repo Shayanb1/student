{
 "cells": [
  {
   "cell_type": "markdown",
   "metadata": {},
   "source": [
    "---\n",
    "title: My progress\n",
    "description: My progress so far throughout CSP\n",
    "comments: false\n",
    "layout: default\n",
    "permalink: /progress67\n",
    "---"
   ]
  },
  {
   "cell_type": "markdown",
   "metadata": {},
   "source": [
    "# Here is my progress so far throughout CSP\n",
    "<hr>"
   ]
  },
  {
   "cell_type": "markdown",
   "metadata": {},
   "source": [
    "# My coding joruney ☟\n",
    "\n",
    "<br>\n",
    "\n",
    "# 1:  I learned how to verify my tools and update each tool.\n",
    "\n",
    "### Updated my tools by either using set instructions on the opencs website or using chatgpt for instructions.\n",
    "\n",
    "Verified by using the commands:\n",
    "\n",
    "<li> ruby -v\n",
    "<br>\n",
    "<li> bundle -v\n",
    "<br>\n",
    "<li> python --version\n",
    "<br>\n",
    "<li> jupyter --version\n",
    "<br>\n",
    "<hr>\n",
    "<br>\n",
    "\n",
    "# 2: Taught my teamates how to git clone repositories and fork them aswell\n",
    "\n",
    "<li> I taught them they can type `git config` and then the link of the repo to clone it\n",
    "<li> I also taught my teamates how to fork from a certain repositories\n",
    "<br>\n",
    "\n",
    "### And I helped my teamates understand the differences between a forked repository and a cloned repository.\n",
    "<br>\n",
    "<hr>\n",
    "<br>\n",
    " \n",
    "# 3: Learned how to open a github repo on VS Code through my terminal & Activate Venv\n",
    "\n",
    "### To open repo: \n",
    "Step 1: Navigate to repo - `cd ______`\n",
    "<br>\n",
    "Step 2: Run `code .`\n",
    "\n",
    "### To activate Venv\n",
    "Step 1: Navigate to repo - `cd ______`\n",
    "<br>\n",
    "\n",
    "Step 2: Run `Source venv/bin/activate`\n",
    "<br>\n",
    "<li> This is how I set up my venv which can be different from others because I am on a mac.\n",
    "<br>\n",
    "<hr>\n",
    "\n",
    "# 4: Learned how to change github themes\n",
    "\n",
    "Step 1: Change layout in `index.md` & `config.yml` to `default`\n",
    "<br>\n",
    "\n",
    "Step 2: In `config.yml` change `remote_theme` to any github theme you would like to use.\n",
    "<br>\n",
    "<br>\n",
    "<hr>\n",
    "\n",
    "# 5: Taught teamates how to change Sprites/Backgrounds to a desired image in a game\n",
    "\n",
    "Step 1: Identify the sprite/background you would like to change\n",
    "<br>\n",
    "\n",
    "Step 2: Find the path for it\n",
    "<br>\n",
    "\n",
    "Step 3: Replace that path with the `relative path` of your desired image\n",
    "<br>\n",
    "<br>\n",
    "<hr>\n",
    "<br>"
   ]
  },
  {
   "cell_type": "markdown",
   "metadata": {},
   "source": [
    "# 5: Taught teamates how to change Sprites/Backgrounds to a desired image in a game\n",
    "\n",
    "Step 1: Identify the sprite/background you would like to change\n",
    "<br>\n",
    "\n",
    "Step 2: Find the path for it\n",
    "<br>\n",
    "\n",
    "Step 3: Replace that path with the `relative path` of your desired image\n",
    "<br>\n",
    "<br>\n",
    "<hr>\n",
    "<br>"
   ]
  }
 ],
 "metadata": {
  "language_info": {
   "name": "python"
  }
 },
 "nbformat": 4,
 "nbformat_minor": 2
}
